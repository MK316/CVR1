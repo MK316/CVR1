{
  "nbformat": 4,
  "nbformat_minor": 0,
  "metadata": {
    "colab": {
      "private_outputs": true,
      "provenance": [],
      "authorship_tag": "ABX9TyMu6AGnk5WJkasYDpaanOrX",
      "include_colab_link": true
    },
    "kernelspec": {
      "name": "python3",
      "display_name": "Python 3"
    },
    "language_info": {
      "name": "python"
    }
  },
  "cells": [
    {
      "cell_type": "markdown",
      "metadata": {
        "id": "view-in-github",
        "colab_type": "text"
      },
      "source": [
        "<a href=\"https://colab.research.google.com/github/MK316/CVR1/blob/main/multimodality.ipynb\" target=\"_parent\"><img src=\"https://colab.research.google.com/assets/colab-badge.svg\" alt=\"Open In Colab\"/></a>"
      ]
    },
    {
      "cell_type": "markdown",
      "source": [
        "# 💦 Multi-modality\n",
        "\n",
        "|Input ➡️ |Codes| ➡️ Output|\n",
        "|--|--|--|\n",
        "|Text|  | Text|\n",
        "|Audio||Audio|\n",
        "|Image||Image|\n",
        "|Video||Video|"
      ],
      "metadata": {
        "id": "YcnboBYksXqf"
      }
    },
    {
      "cell_type": "markdown",
      "source": [
        "# [1] Text-to-Text"
      ],
      "metadata": {
        "id": "rfzJcbEOukO_"
      }
    },
    {
      "cell_type": "code",
      "source": [
        "%%capture\n",
        "!pip install transformers\n",
        "!pip install gradio"
      ],
      "metadata": {
        "id": "ntGyMR5Iv6FP"
      },
      "execution_count": null,
      "outputs": []
    },
    {
      "cell_type": "markdown",
      "source": [
        "[sample texts from Aesop fables](https://read.gov/aesop/021.html)"
      ],
      "metadata": {
        "id": "V44u2wgw97Xv"
      }
    },
    {
      "cell_type": "markdown",
      "source": [
        "### Transformers:\n",
        "\n",
        "+ The Transformers package is an open-source library developed by Hugging Face that provides state-of-the-art machine learning models based on transformer architectures. It is widely used for natural language processing (NLP) tasks but has also expanded to support computer vision and audio tasks.\n",
        "### Applications:\n",
        "- Text Classification: Spam detection, sentiment analysis, topic categorization.\n",
        "- Question Answering: Building systems that can answer questions based on a given context.\n",
        "- Machine Translation: Translating text from one language to another.\n",
        "- Summarization: Condensing long documents into shorter summaries.\n",
        "- Named Entity Recognition: Identifying entities like names, organizations, and locations in text.\n",
        "- Text Generation: Creating new text that is contextually relevant."
      ],
      "metadata": {
        "id": "If1DiXBCDuS5"
      }
    },
    {
      "cell_type": "markdown",
      "source": [
        "[sample article](https://www.vogue.com/article/what-is-fast-fashion)"
      ],
      "metadata": {
        "id": "dnDuGYhpFcj1"
      }
    },
    {
      "cell_type": "code",
      "source": [
        "input_text = \"\"\"\n",
        "Fast fashion is widely considered to be low-quality apparel produced rapidly to follow current trends in the industry and sold at rock-bottom prices. Although the monetary cost is low, textile workers and the environment are paying a high price. Fast fashion is cheap because workers are not paid adequately. Clothes are poorly made, widely purchased, rarely worn and quickly thrown away.\n",
        "\n",
        "The goal of fast fashion companies is to encourage people to spend more money on more clothes that they use for a shorter time. That's what makes them money.\n",
        "Fashion brands have long used new styles and lower prices to attract customers, but previously brands would plan new ranges many months, even years, in advance. The pace of change was relatively slow and there were fewer products on offer. In comparison, fast fashion is focused on responding to ever-changing consumer tastes as quickly as possible.\n",
        "\n",
        "For example, in the BBC’s 2020 ‘Breaking Fashion’ show we see Manchester-based fast fashion company, In the Style, reproducing a bodysuit worn by Kylie Jenner. The company manages to have the piece designed, manufactured and on sale within 10 days of the piece first being worn publicly by the celebrity.\n",
        "\n",
        "The rise of fast fashion is intertwined with social media and celebrity/influencer culture. A celebrity posts a photo wearing a new outfit, and their followers want it, so fast fashion brands rush to be the first to provide it. Fast fashion brands often target young people - so called Gen Zs -, who have been brought up amongst social media and influencer culture.\n",
        "\n",
        "Of course, the flow of causality is not that simple: fast fashion brands are not simply reacting to consumer demand, they are also creating it. But the essential point is that these brands operate on the basis of constantly producing new lines of clothes to meet the insatiable and ever-changing consumer demand for all things new.\n",
        "\"\"\""
      ],
      "metadata": {
        "id": "GWitIWKfz2Qk"
      },
      "execution_count": null,
      "outputs": []
    },
    {
      "cell_type": "code",
      "source": [
        "#@markdown Summarize app using {transformers}\n",
        "from transformers import pipeline\n",
        "\n",
        "# Explicitly specify the model\n",
        "model_name = \"sshleifer/distilbart-cnn-12-6\"\n",
        "summarizer = pipeline(\"summarization\", model=model_name)\n",
        "\n",
        "def generate_summary(text):\n",
        "    summary_text = summarizer(text, max_length=130, min_length=30, do_sample=False)\n",
        "    return summary_text[0]['summary_text']\n",
        "\n",
        "# Rest of your Gradio app setup remains the same\n",
        "\n",
        "\n",
        "# Example usage\n",
        "# input_text = \"Your long input text goes here.\"\n",
        "print(\"*\"*100)\n",
        "print(generate_summary(input_text))\n"
      ],
      "metadata": {
        "cellView": "form",
        "id": "UEzIUUH7z0gT"
      },
      "execution_count": null,
      "outputs": []
    },
    {
      "cell_type": "markdown",
      "source": [
        "sample text:\n",
        "\n",
        "Fast fashion is widely considered to be low-quality apparel produced rapidly to follow current trends in the industry and sold at rock-bottom prices. Although the monetary cost is low, textile workers and the environment are paying a high price. Fast fashion is cheap because workers are not paid adequately. Clothes are poorly made, widely purchased, rarely worn and quickly thrown away.\n",
        "\n",
        "The goal of fast fashion companies is to encourage people to spend more money on more clothes that they use for a shorter time. That's what makes them money.\n",
        "Fashion brands have long used new styles and lower prices to attract customers, but previously brands would plan new ranges many months, even years, in advance. The pace of change was relatively slow and there were fewer products on offer. In comparison, fast fashion is focused on responding to ever-changing consumer tastes as quickly as possible.\n",
        "\n",
        "For example, in the BBC’s 2020 ‘Breaking Fashion’ show we see Manchester-based fast fashion company, In the Style, reproducing a bodysuit worn by Kylie Jenner. The company manages to have the piece designed, manufactured and on sale within 10 days of the piece first being worn publicly by the celebrity.\n",
        "\n",
        "The rise of fast fashion is intertwined with social media and celebrity/influencer culture. A celebrity posts a photo wearing a new outfit, and their followers want it, so fast fashion brands rush to be the first to provide it. Fast fashion brands often target young people - so called Gen Zs -, who have been brought up amongst social media and influencer culture.\n",
        "\n",
        "Of course, the flow of causality is not that simple: fast fashion brands are not simply reacting to consumer demand, they are also creating it. But the essential point is that these brands operate on the basis of constantly producing new lines of clothes to meet the insatiable and ever-changing consumer demand for all things new."
      ],
      "metadata": {
        "id": "YzRfGy8pGOzA"
      }
    },
    {
      "cell_type": "code",
      "source": [
        "#@markdown Gradio link\n",
        "import gradio as gr\n",
        "from transformers import pipeline\n",
        "\n",
        "# Initialize the summarization pipeline\n",
        "model_name = \"sshleifer/distilbart-cnn-12-6\"\n",
        "summarizer = pipeline(\"summarization\", model=model_name)\n",
        "\n",
        "def generate_summary(text):\n",
        "    summary_text = summarizer(text, max_length=130, min_length=30, do_sample=False)\n",
        "    return summary_text[0]['summary_text']\n",
        "\n",
        "# Create a Gradio interface with custom labels\n",
        "interface = gr.Interface(fn=generate_summary,\n",
        "                         inputs=gr.Textbox(lines=10,\n",
        "                                                  placeholder=\"Enter Text Here...\",\n",
        "                                                  label=\"Input Text for Summarization\"),\n",
        "                         outputs=gr.Textbox(label=\"Summarized Text\"),\n",
        "                         title=\"Text Summarization\",\n",
        "                         description=\"Enter a block of text to generate a concise summary using a Transformers model\")\n",
        "\n",
        "# Launch the interface\n",
        "interface.launch()\n"
      ],
      "metadata": {
        "cellView": "form",
        "id": "lriTkMn0xora"
      },
      "execution_count": null,
      "outputs": []
    },
    {
      "cell_type": "markdown",
      "source": [
        "# [2] Text-to-Speech"
      ],
      "metadata": {
        "id": "aIsTCj1p-Dbb"
      }
    },
    {
      "cell_type": "code",
      "source": [
        "%%capture\n",
        "!pip install gtts\n",
        "!pip install IPython"
      ],
      "metadata": {
        "id": "kdZ0fMfh-ITP"
      },
      "execution_count": null,
      "outputs": []
    },
    {
      "cell_type": "code",
      "source": [
        "#@markdown TTS with user input\n",
        "\n",
        "from gtts import gTTS\n",
        "from IPython.display import Audio, display\n",
        "import os\n",
        "\n",
        "def generate_audio(text, lang):\n",
        "    tts = gTTS(text=text, lang=lang)\n",
        "    filename = 'temp_audio.mp3'\n",
        "    tts.save(filename)\n",
        "    display(Audio(filename, autoplay=True))\n",
        "    os.remove(filename)\n",
        "\n",
        "# Example Usage\n",
        "mytext = input(\"Write text here: \")\n",
        "generate_audio(mytext, \"en\")\n"
      ],
      "metadata": {
        "cellView": "form",
        "id": "zCTpOelfAVUQ"
      },
      "execution_count": null,
      "outputs": []
    },
    {
      "cell_type": "code",
      "source": [
        "#@markdown TTS English (American vs. British)\n",
        "# !pip install gradio\n",
        "# !pip install gTTS\n",
        "\n",
        "import gradio as gr\n",
        "from gtts import gTTS\n",
        "import os\n",
        "\n",
        "def generate_audio(text, dialect):\n",
        "    tts = gTTS(text=text, lang='en', tld=dialect)\n",
        "    filename = 'temp_audio.mp3'\n",
        "    tts.save(filename)\n",
        "    return filename\n",
        "\n",
        "# Define the dialect options for English\n",
        "dialect_options = [\"us\", \"co.uk\"]\n",
        "\n",
        "# Create the Gradio interface\n",
        "iface = gr.Interface(\n",
        "    fn=generate_audio,\n",
        "    inputs=[\n",
        "        gr.Textbox(lines=2, placeholder=\"Enter your text here...\"),\n",
        "        gr.Radio(choices=dialect_options, label=\"Choose English Dialect\")\n",
        "    ],\n",
        "    outputs=gr.Audio(label=\"Generated Audio\"),\n",
        "    title=\"English Text-to-Speech\",\n",
        "    description=\"Enter text and select an English dialect to generate speech.\"\n",
        ")\n",
        "\n",
        "iface.launch()\n"
      ],
      "metadata": {
        "cellView": "form",
        "id": "rO1ewvVEFTjQ"
      },
      "execution_count": null,
      "outputs": []
    },
    {
      "cell_type": "markdown",
      "source": [
        "# [3] Speech-to-Text (Dictation)\n",
        "\n",
        "[alternative link: speechnotes.co](https://speechnotes.co)\n",
        "\n",
        "Coding later"
      ],
      "metadata": {
        "id": "nbjNoJmn-Hyb"
      }
    },
    {
      "cell_type": "markdown",
      "source": [
        "# [4] Speech-to-Text (Transcribing)\n",
        "\n",
        "[alternative link: speechnotes.co](https://speechnotes.co)\n",
        "\n",
        "Coding later"
      ],
      "metadata": {
        "id": "RsI6iVI7KoTf"
      }
    },
    {
      "cell_type": "markdown",
      "source": [
        "# [5] Text-to-Image\n",
        "\n",
        "+ DallE\n",
        "+ Midjourney\n"
      ],
      "metadata": {
        "id": "ePJFBX1KK8Fj"
      }
    },
    {
      "cell_type": "code",
      "source": [
        "%%capture\n",
        "!pip install IPython"
      ],
      "metadata": {
        "id": "SPAlBL79N40j"
      },
      "execution_count": null,
      "outputs": []
    },
    {
      "cell_type": "code",
      "source": [
        "#@markdown Introduction Slides\n",
        "from IPython.display import display\n",
        "import ipywidgets as widgets\n",
        "import requests\n",
        "\n",
        "def on_button_click(button):\n",
        "    sn = int(button.description) - 1\n",
        "    image.value = requests.get(urls[sn]).content\n",
        "\n",
        "urls = [\"https://github.com/MK316/Spring2024/raw/main/img/AI-image01.png\",\n",
        "        'https://github.com/MK316/Spring2024/raw/main/img/AI-image02.png',\n",
        "        'https://github.com/MK316/Spring2024/raw/main/img/AI-image03.png',\n",
        "        'https://github.com/MK316/Spring2024/raw/main/img/AI-image04.png',\n",
        "        'https://github.com/MK316/Spring2024/raw/main/img/AI-image05.png',\n",
        "        'https://github.com/MK316/Spring2024/raw/main/img/AI-image06.png',\n",
        "        'https://github.com/MK316/Spring2024/raw/main/img/AI-image07.png'\n",
        "      ]\n",
        "\n",
        "button_layout = widgets.Layout(width='50px', height='30px')\n",
        "\n",
        "buttons = [widgets.Button(description=str(i), layout=button_layout) for i in range(1,8)]\n",
        "for button in buttons:\n",
        "    button.on_click(on_button_click)\n",
        "\n",
        "image = widgets.Image(value=requests.get(urls[0]).content, width=\"800\", height=\"600\")\n",
        "\n",
        "display(widgets.HBox([image, widgets.VBox(buttons)]))"
      ],
      "metadata": {
        "cellView": "form",
        "id": "Iseh5VdBLRo4"
      },
      "execution_count": null,
      "outputs": []
    },
    {
      "cell_type": "markdown",
      "source": [
        "---\n",
        "The END"
      ],
      "metadata": {
        "id": "oEZrWFVxO8P0"
      }
    }
  ]
}